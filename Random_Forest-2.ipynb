{
 "cells": [
  {
   "cell_type": "markdown",
   "id": "6336eef5-9170-48ae-abe0-6db0383b8f97",
   "metadata": {
    "id": "7dc0065e-f7f0-4db6-92c8-a01b155c246e"
   },
   "source": [
    "## Imports"
   ]
  },
  {
   "cell_type": "code",
   "execution_count": null,
   "id": "fff01911-0ce0-4a13-bd91-a02afdbf99e0",
   "metadata": {
    "id": "fff01911-0ce0-4a13-bd91-a02afdbf99e0"
   },
   "outputs": [
    {
     "ename": "",
     "evalue": "",
     "output_type": "error",
     "traceback": [
      "\u001b[1;31mRunning cells with '.conda (Python 3.11.9)' requires the ipykernel package.\n",
      "\u001b[1;31mRun the following command to install 'ipykernel' into the Python environment. \n",
      "\u001b[1;31mCommand: 'conda install -p /Users/lesegomosikari/Desktop/Capstone project/project_churn/.conda ipykernel --update-deps --force-reinstall'"
     ]
    }
   ],
   "source": [
    "\n",
    "\n",
    "# 1. to handle the data\n",
    "import pandas as pd\n",
    "import numpy as np\n",
    "from scipy import stats\n",
    "\n",
    "# to visualize the data\n",
    "import matplotlib.pyplot as plt\n",
    "import seaborn as sns\n",
    "import plotly.express as px\n",
    "\n",
    "# To preprocess the data\n",
    "from sklearn.preprocessing import StandardScaler, MinMaxScaler, LabelEncoder,OneHotEncoder\n",
    "from sklearn.impute import SimpleImputer, KNNImputer\n",
    "# import iterative imputer\n",
    "from sklearn.experimental import enable_iterative_imputer\n",
    "from sklearn.impute import IterativeImputer\n",
    "\n",
    "# machine learning\n",
    "from sklearn.model_selection import train_test_split, GridSearchCV, cross_val_score\n",
    "#for classification tasks\n",
    "from sklearn.linear_model import LogisticRegression\n",
    "from sklearn.neighbors import KNeighborsClassifier\n",
    "from sklearn.tree import DecisionTreeClassifier\n",
    "from sklearn.ensemble import RandomForestClassifier, AdaBoostClassifier, GradientBoostingClassifier, RandomForestRegressor\n",
    "from sklearn.svm import SVC\n",
    "from sklearn.naive_bayes import GaussianNB\n",
    "# pipeline\n",
    "from sklearn.pipeline import Pipeline\n",
    "# metrics\n",
    "from sklearn.metrics import accuracy_score, confusion_matrix, classification_report, mean_absolute_error,mean_squared_error,r2_score\n",
    "\n",
    "# ignore warnings\n",
    "import warnings\n",
    "warnings.filterwarnings('ignore')\n",
    "\n",
    "from collections import Counter\n",
    "from statistics import stdev"
   ]
  },
  {
   "cell_type": "markdown",
   "id": "d0a6a30f-b4d5-42b3-8a99-f9c9836936a5",
   "metadata": {
    "id": "d0a6a30f-b4d5-42b3-8a99-f9c9836936a5"
   },
   "source": [
    "## Data loading"
   ]
  },
  {
   "cell_type": "code",
   "execution_count": 4,
   "id": "4044f174-9313-4c7d-9128-b5723184f6c0",
   "metadata": {
    "id": "4044f174-9313-4c7d-9128-b5723184f6c0"
   },
   "outputs": [],
   "source": [
    "df = pd.read_csv(\"/Users/lesegomosikari/Desktop/Capstone project/Machine learning/archivetempsupermarket_churnData.csv\")"
   ]
  },
  {
   "cell_type": "markdown",
   "id": "441d2bb2-d0b7-4bf5-9757-0c5ef956c551",
   "metadata": {
    "id": "441d2bb2-d0b7-4bf5-9757-0c5ef956c551"
   },
   "source": [
    "## Extract loaded datase"
   ]
  },
  {
   "cell_type": "code",
   "execution_count": null,
   "id": "0a3e17ee-9531-4e48-9793-8a42c42b9c26",
   "metadata": {
    "colab": {
     "base_uri": "https://localhost:8080/",
     "height": 557
    },
    "id": "0a3e17ee-9531-4e48-9793-8a42c42b9c26",
    "outputId": "20e45053-aaac-4387-cbb8-b2fa04f2d193"
   },
   "outputs": [],
   "source": [
    "# print all column\n",
    "pd.set_option('display.max_columns', None)\n",
    "# print first 10 rows\n",
    "df.head(10)"
   ]
  },
  {
   "cell_type": "code",
   "execution_count": null,
   "id": "c4c8d974-d164-494d-90b3-22b06dc1dbd6",
   "metadata": {
    "colab": {
     "base_uri": "https://localhost:8080/",
     "height": 398
    },
    "id": "c4c8d974-d164-494d-90b3-22b06dc1dbd6",
    "outputId": "621a0cff-b508-4bc5-8e3f-b6342b29e633"
   },
   "outputs": [],
   "source": [
    "df['customer_churn'].head(10)"
   ]
  },
  {
   "cell_type": "code",
   "execution_count": null,
   "id": "8aa9d8e1-12ea-4486-a815-7df5c320d3cb",
   "metadata": {
    "colab": {
     "base_uri": "https://localhost:8080/"
    },
    "id": "8aa9d8e1-12ea-4486-a815-7df5c320d3cb",
    "outputId": "b3bfa49a-e082-4573-a97f-0c91f5d21c2c"
   },
   "outputs": [],
   "source": [
    "# check info\n",
    "df.info()"
   ]
  },
  {
   "cell_type": "markdown",
   "id": "6e271718-b52e-4a5c-a001-f40039653f82",
   "metadata": {
    "id": "6e271718-b52e-4a5c-a001-f40039653f82"
   },
   "source": [
    "## Data cleaning"
   ]
  },
  {
   "cell_type": "code",
   "execution_count": 15,
   "id": "65423747-cf53-4a55-a145-1ad4b7db6802",
   "metadata": {
    "id": "65423747-cf53-4a55-a145-1ad4b7db6802"
   },
   "outputs": [],
   "source": [
    "# drop missing values\n",
    "df.dropna(inplace=True)\n",
    "\n",
    "# drop invoice_id\n",
    "df.drop('invoice_id', axis=1, inplace=True)\n",
    "df.drop('customer_id', axis=1, inplace=True)\n",
    "df.drop('row_number', axis=1, inplace=True)"
   ]
  },
  {
   "cell_type": "code",
   "execution_count": null,
   "id": "fd518a87-9da9-45bf-a417-50713794b95c",
   "metadata": {
    "colab": {
     "base_uri": "https://localhost:8080/"
    },
    "id": "fd518a87-9da9-45bf-a417-50713794b95c",
    "outputId": "4c6ba7a5-c5c0-4a96-8845-542eef27734c"
   },
   "outputs": [],
   "source": [
    "# check missing value\n",
    "print(df.isnull().sum())"
   ]
  },
  {
   "cell_type": "code",
   "execution_count": 17,
   "id": "5f3b4140-32a5-4b92-98c0-dfa90fe0e9a5",
   "metadata": {
    "id": "5f3b4140-32a5-4b92-98c0-dfa90fe0e9a5"
   },
   "outputs": [],
   "source": [
    "# distinction is based on the number of different values in the column\n",
    "\n",
    "columns = list(df.columns)\n",
    "\n",
    "categoric_columns = []\n",
    "numeric_columns = []\n",
    "\n",
    "for i in columns:\n",
    "    if len(df[i].unique()) > 6:\n",
    "        numeric_columns.append(i)\n",
    "    else:\n",
    "        categoric_columns.append(i)\n",
    "\n",
    "categoric_columns = categoric_columns[:-1] # Excluding 'Churn'"
   ]
  },
  {
   "cell_type": "code",
   "execution_count": null,
   "id": "893b8709-1d69-46ae-b9ef-767ce43fab09",
   "metadata": {
    "colab": {
     "base_uri": "https://localhost:8080/"
    },
    "id": "893b8709-1d69-46ae-b9ef-767ce43fab09",
    "outputId": "5f9d92e0-5f6b-40e2-f323-ec1ef6177aeb"
   },
   "outputs": [],
   "source": [
    "numeric_columns"
   ]
  },
  {
   "cell_type": "code",
   "execution_count": null,
   "id": "60a774ad-92ff-476b-96fa-8e156e3653b0",
   "metadata": {
    "colab": {
     "base_uri": "https://localhost:8080/"
    },
    "id": "60a774ad-92ff-476b-96fa-8e156e3653b0",
    "outputId": "4c38ab0e-8598-4f00-a670-b21c0ddca6fc"
   },
   "outputs": [],
   "source": [
    "# Label Encoding refers to converting the labels into a numeric form.\n",
    "# This is only for EDA reasons. Later we will use OneHotEncoder to prepare for model building.\n",
    "from sklearn.preprocessing import LabelEncoder\n",
    "le = LabelEncoder()\n",
    "\n",
    "df1 = df.copy()\n",
    "\n",
    "df1[categoric_columns] = df1[categoric_columns].apply(le.fit_transform)\n",
    "df1[['customer_churn']] = df1[['customer_churn']].apply(le.fit_transform)\n",
    "\n",
    "print('Label Encoder Transformation')\n",
    "for i in categoric_columns :\n",
    "    df1[i] = le.fit_transform(df1[i])\n",
    "    print(i,' : ',df1[i].unique(),' = ',le.inverse_transform(df1[i].unique()))"
   ]
  },
  {
   "cell_type": "code",
   "execution_count": null,
   "id": "b13408ed-cc9d-494e-93ac-2bb225671864",
   "metadata": {
    "colab": {
     "base_uri": "https://localhost:8080/",
     "height": 300
    },
    "id": "b13408ed-cc9d-494e-93ac-2bb225671864",
    "outputId": "e6455729-6334-497c-9ddc-386d4e3f759d"
   },
   "outputs": [],
   "source": [
    "df1[numeric_columns].describe()"
   ]
  },
  {
   "cell_type": "code",
   "execution_count": null,
   "id": "dJ6XitrGt-b0",
   "metadata": {
    "colab": {
     "base_uri": "https://localhost:8080/",
     "height": 226
    },
    "id": "dJ6XitrGt-b0",
    "outputId": "e55631d9-43ee-47be-e5f7-c50118ff5d48"
   },
   "outputs": [],
   "source": [
    "from sklearn.preprocessing import MinMaxScaler,StandardScaler\n",
    "mms = MinMaxScaler() # Normalization\n",
    "ss = StandardScaler() # Standardization\n",
    "\n",
    "\n",
    "\n",
    "\n",
    "df1['age'] = mms.fit_transform(df1[['age']])\n",
    "df1['credit_score'] = mms.fit_transform(df1[['credit_score']])\n",
    "df1['number_of_products'] = mms.fit_transform(df1[['number_of_products']])\n",
    "df1['total_amount'] = mms.fit_transform(df1[['total_amount']])\n",
    "df1['price'] = mms.fit_transform(df1[['price']])\n",
    "df1['tax_amount'] = mms.fit_transform(df1[['tax_amount']])\n",
    "df1['product_category'] = mms.fit_transform(df1[['product_category']])\n",
    "df1['gender'] = mms.fit_transform(df1[['gender']])\n",
    "df1['branch'] = mms.fit_transform(df1[['branch']])\n",
    "df1['ratings'] = mms.fit_transform(df1[['ratings']])\n",
    "df1.head()"
   ]
  },
  {
   "cell_type": "code",
   "execution_count": null,
   "id": "_wEsyaWXuJqj",
   "metadata": {
    "colab": {
     "base_uri": "https://localhost:8080/"
    },
    "id": "_wEsyaWXuJqj",
    "outputId": "2d5f36ec-c915-4c10-87b7-838cf8f3879b"
   },
   "outputs": [],
   "source": [
    "import pandas as pd\n",
    "\n",
    "# Assuming df1 is your DataFrame and 'customer_churn' is the column with continuous values\n",
    "df1['customer_churn_binary'] = (df1['customer_churn'] > 0.5).astype(int)\n",
    "\n",
    "# Verify the transformation\n",
    "print(df1['customer_churn_binary'].value_counts())"
   ]
  },
  {
   "cell_type": "code",
   "execution_count": null,
   "id": "GSEtYSJbuOw0",
   "metadata": {
    "colab": {
     "base_uri": "https://localhost:8080/"
    },
    "id": "GSEtYSJbuOw0",
    "outputId": "e5f279fc-0a94-4570-fefe-cae1479a7a4d"
   },
   "outputs": [],
   "source": [
    "t1 = df1['customer_churn']\n",
    "print(\"Unique values in t1:\", np.unique(t1))\n",
    "print(\"Data type of t1:\", t1.dtype)\n"
   ]
  },
  {
   "cell_type": "code",
   "execution_count": null,
   "id": "_nxEESTYuR38",
   "metadata": {
    "colab": {
     "base_uri": "https://localhost:8080/"
    },
    "id": "_nxEESTYuR38",
    "outputId": "59b7aea9-2cdd-4dc6-8a2d-e1b554302385"
   },
   "outputs": [],
   "source": [
    "import pandas as pd\n",
    "from imblearn.over_sampling import SMOTE\n",
    "from collections import Counter\n",
    "from sklearn.linear_model import Lasso\n",
    "from sklearn.model_selection import train_test_split\n",
    "from sklearn.preprocessing import StandardScaler\n",
    "from sklearn.metrics import accuracy_score, mean_squared_error\n",
    "\n",
    "# Assuming you have a DataFrame df1 and a binary target t1\n",
    "\n",
    "# Convert continuous values to binary (e.g., using a threshold of 0.5)\n",
    "t1_binary = (t1 > 0.5).astype(int)\n",
    "\n",
    "# Apply SMOTE\n",
    "smote = SMOTE()\n",
    "\n",
    "# Select all columns as features (excluding the target variable)\n",
    "X = df1.drop('customer_churn', axis=1).values\n",
    "y = t1_binary  # Converted binary target variable\n",
    "\n",
    "# Resample the dataset using SMOTE\n",
    "X_resampled, y_resampled = smote.fit_resample(X, y)\n",
    "print(Counter(y_resampled))\n",
    "\n",
    "# Step 1: Split the resampled data into training and testing sets\n",
    "X_train, X_test, y_train, y_test = train_test_split(X_resampled, y_resampled, test_size=0.2, random_state=42)\n",
    "\n",
    "# Step 2: Scale the data (important for LASSO)\n",
    "scaler = StandardScaler()\n",
    "X_train_scaled = scaler.fit_transform(X_train)\n",
    "X_test_scaled = scaler.transform(X_test)\n",
    "\n",
    "# Step 3: Initialize and fit LASSO\n",
    "# You might tune the alpha value based on your specific data; here we start with 0.1\n",
    "lasso = Lasso(alpha=0.1)\n",
    "\n",
    "# Fit the LASSO model on the training data\n",
    "lasso.fit(X_train_scaled, y_train)\n",
    "\n",
    "# Step 4: Make predictions\n",
    "y_pred = lasso.predict(X_test_scaled)\n",
    "\n",
    "# Convert predictions to binary classification (since LASSO predicts continuous values)\n",
    "y_pred_binary = (y_pred > 0.5).astype(int)\n",
    "\n",
    "# Step 5: Evaluate the model\n",
    "accuracy = accuracy_score(y_test, y_pred_binary)\n",
    "print(f\"Accuracy: {accuracy}\")\n",
    "\n",
    "# Optionally, calculate Mean Squared Error (since LASSO is a regression method by default)\n",
    "mse = mean_squared_error(y_test, y_pred)\n",
    "print(f\"Mean Squared Error: {mse}\")\n",
    "\n",
    "# Step 6: Inspect feature coefficients (LASSO performs feature selection by shrinking coefficients)\n",
    "lasso_coefficients = pd.Series(lasso.coef_, index=df1.drop('customer_churn', axis=1).columns)\n",
    "print(\"Selected Features with Non-zero Coefficients:\")\n",
    "print(lasso_coefficients[lasso_coefficients != 0])\n"
   ]
  },
  {
   "cell_type": "code",
   "execution_count": 35,
   "id": "LvBy7v4CncqC",
   "metadata": {
    "id": "LvBy7v4CncqC"
   },
   "outputs": [],
   "source": [
    "# Split the resampled data into training and testing sets\n",
    "X_train, X_test, y_train, y_test = train_test_split(X_resampled, y_resampled, test_size=0.3, random_state=42)\n"
   ]
  },
  {
   "cell_type": "markdown",
   "id": "737d6e34-1f3d-4243-b3e9-3cfae0ff37f9",
   "metadata": {
    "id": "737d6e34-1f3d-4243-b3e9-3cfae0ff37f9"
   },
   "source": [
    "## Future Engineering"
   ]
  },
  {
   "cell_type": "markdown",
   "id": "95085e37-f111-447a-a4da-11f395974eb1",
   "metadata": {
    "id": "95085e37-f111-447a-a4da-11f395974eb1"
   },
   "source": [
    "### Train test split - stratified splitting"
   ]
  },
  {
   "cell_type": "code",
   "execution_count": 37,
   "id": "00132869-1b22-4eec-a5ba-30087f4ed260",
   "metadata": {
    "id": "00132869-1b22-4eec-a5ba-30087f4ed260"
   },
   "outputs": [],
   "source": [
    "df3=df\n",
    "df3[['customer_churn']] = df3[['customer_churn']].apply(le.fit_transform)\n",
    "\n",
    "X = df3.drop('customer_churn', axis=1)\n",
    "y = df3['customer_churn']"
   ]
  },
  {
   "cell_type": "code",
   "execution_count": 39,
   "id": "01164464-b5ef-452a-a569-561e2a933c65",
   "metadata": {
    "id": "01164464-b5ef-452a-a569-561e2a933c65"
   },
   "outputs": [],
   "source": [
    "from sklearn.model_selection import train_test_split\n",
    "X_train, X_test, y_train, y_test = train_test_split(X, y, stratify=y, test_size = 0.25, random_state = 42)"
   ]
  },
  {
   "cell_type": "markdown",
   "id": "325dcb83-a234-4d7e-9e42-e3ea2e40bf3a",
   "metadata": {
    "id": "325dcb83-a234-4d7e-9e42-e3ea2e40bf3a"
   },
   "source": [
    "### Feature scaling"
   ]
  },
  {
   "cell_type": "code",
   "execution_count": null,
   "id": "f40e9673-c18c-47f5-aefe-c2d9293be3b9",
   "metadata": {
    "colab": {
     "base_uri": "https://localhost:8080/"
    },
    "id": "f40e9673-c18c-47f5-aefe-c2d9293be3b9",
    "outputId": "2a857343-5d26-4b93-d046-0831f05b77fa"
   },
   "outputs": [],
   "source": [
    "from sklearn.preprocessing import StandardScaler\n",
    "Standard_Scaler = StandardScaler()\n",
    "Standard_Scaler.fit_transform(X_train[numeric_columns])\n",
    "Standard_Scaler.transform(X_test[numeric_columns])"
   ]
  },
  {
   "cell_type": "markdown",
   "id": "10df90f0-2995-41bd-9877-bd658b36af7e",
   "metadata": {
    "id": "10df90f0-2995-41bd-9877-bd658b36af7e"
   },
   "source": [
    "### One hot Encoder"
   ]
  },
  {
   "cell_type": "code",
   "execution_count": null,
   "id": "ee35e3b0-97b6-46de-b039-413598ce6ae7",
   "metadata": {
    "colab": {
     "base_uri": "https://localhost:8080/"
    },
    "id": "ee35e3b0-97b6-46de-b039-413598ce6ae7",
    "outputId": "bd2e3406-990e-4cc3-a2a3-48f0c2cb2f4f"
   },
   "outputs": [],
   "source": [
    "print(categoric_columns)"
   ]
  },
  {
   "cell_type": "code",
   "execution_count": 47,
   "id": "fa62f880-d05e-48ac-bc10-e275313fbcc9",
   "metadata": {
    "id": "fa62f880-d05e-48ac-bc10-e275313fbcc9"
   },
   "outputs": [],
   "source": [
    "from sklearn.preprocessing import OneHotEncoder\n",
    "from sklearn.compose import make_column_transformer\n",
    "# Encoding multiple columns. Unfortunately you cannot pass a list here so you need to copy-paste all printed categorical columns.\n",
    "transformer = make_column_transformer(\n",
    "    (OneHotEncoder(handle_unknown='ignore'),\n",
    "     ['branch', 'gender', 'customer_type', 'has_creditcard', 'is_active_member', 'product_category']\n",
    "    ))\n"
   ]
  },
  {
   "cell_type": "code",
   "execution_count": 49,
   "id": "b8a36a3f-5334-45d9-89e4-1818733af201",
   "metadata": {
    "id": "b8a36a3f-5334-45d9-89e4-1818733af201"
   },
   "outputs": [],
   "source": [
    "# Transforming\n",
    "transformed = transformer.fit_transform(X_train)\n",
    "# Transformating back\n",
    "transformed_df = pd.DataFrame(transformed, columns=transformer.get_feature_names_out())\n",
    "# One-hot encoding removed index. Let's put it back:\n",
    "transformed_df.index = X_train.index\n",
    "\n",
    "# Joining tables\n",
    "X_train = pd.concat([X_train, transformed_df], axis=1)\n",
    "\n",
    "X_train.drop(categoric_columns, axis=1, inplace=True) # Dropping categorical columns"
   ]
  },
  {
   "cell_type": "code",
   "execution_count": 51,
   "id": "614af412-325c-4609-9c17-7202a41c2c4a",
   "metadata": {
    "id": "614af412-325c-4609-9c17-7202a41c2c4a"
   },
   "outputs": [],
   "source": [
    "# Transforming\n",
    "transformed = transformer.transform(X_test)\n",
    "# Transformating back\n",
    "transformed_df = pd.DataFrame(transformed, columns=transformer.get_feature_names_out())\n",
    "# One-hot encoding removed index. Let's put it back:\n",
    "transformed_df.index = X_test.index\n",
    "\n",
    "# Joining tables\n",
    "X_test = pd.concat([X_test, transformed_df], axis=1)\n",
    "\n",
    "X_test.drop(categoric_columns, axis=1, inplace=True) # Dropping categorical columns\n"
   ]
  },
  {
   "cell_type": "markdown",
   "id": "b3000c32-ffcc-4ce8-adf6-9884d1d1ade3",
   "metadata": {
    "id": "b3000c32-ffcc-4ce8-adf6-9884d1d1ade3"
   },
   "source": [
    "## Model building"
   ]
  },
  {
   "cell_type": "code",
   "execution_count": 53,
   "id": "e4b240bc-b3d0-47e2-924b-e47534329100",
   "metadata": {
    "id": "e4b240bc-b3d0-47e2-924b-e47534329100"
   },
   "outputs": [],
   "source": [
    "from sklearn.metrics import confusion_matrix, recall_score, precision_score, f1_score, accuracy_score, roc_auc_score\n",
    "from sklearn.metrics import classification_report"
   ]
  },
  {
   "cell_type": "code",
   "execution_count": null,
   "id": "57a08f98-5b89-4489-87d7-d7933d10039e",
   "metadata": {
    "colab": {
     "base_uri": "https://localhost:8080/"
    },
    "id": "57a08f98-5b89-4489-87d7-d7933d10039e",
    "outputId": "20405cef-082f-4257-f05e-78ad2e2d109c"
   },
   "outputs": [],
   "source": [
    "print(X_train.columns)"
   ]
  },
  {
   "cell_type": "markdown",
   "id": "ea77652c-f3ad-4be4-a795-4d00b0a56444",
   "metadata": {
    "id": "ea77652c-f3ad-4be4-a795-4d00b0a56444"
   },
   "source": [
    "### Feature importance"
   ]
  },
  {
   "cell_type": "code",
   "execution_count": 57,
   "id": "5feb4a9b-8a01-4cec-a612-8e23969849a0",
   "metadata": {
    "id": "5feb4a9b-8a01-4cec-a612-8e23969849a0"
   },
   "outputs": [],
   "source": [
    "# Identify categorical columns\n",
    "categorical_cols = df.select_dtypes(include=['category', 'object']).columns\n",
    "\n",
    "# Apply OneHotEncoder\n",
    "encoder = OneHotEncoder(sparse=False)  # Setting drop='first' to avoid multicollinearity\n",
    "encoded_data = encoder.fit_transform(df[categorical_cols])\n",
    "\n",
    "# Create a DataFrame from the encoded data\n",
    "encoded_df = pd.DataFrame(encoded_data, columns=encoder.get_feature_names_out(categorical_cols))\n",
    "\n",
    "# Drop the original categorical columns from the DataFrame\n",
    "df.drop(columns=categorical_cols, inplace=True)\n",
    "\n",
    "# Reset index of the DataFrame\n",
    "df.reset_index(drop=True, inplace=True)\n",
    "\n",
    "# Concatenate the original DataFrame with the encoded DataFrame\n",
    "df = pd.concat([df, encoded_df], axis=1)"
   ]
  },
  {
   "cell_type": "code",
   "execution_count": null,
   "id": "1773b05c-8384-4e75-9193-f3a447ac7949",
   "metadata": {
    "colab": {
     "base_uri": "https://localhost:8080/",
     "height": 226
    },
    "id": "1773b05c-8384-4e75-9193-f3a447ac7949",
    "outputId": "f01776f9-6beb-4859-c33d-b1083c09103b"
   },
   "outputs": [],
   "source": [
    "df1.head()"
   ]
  },
  {
   "cell_type": "code",
   "execution_count": null,
   "id": "2ec18b96-7767-455b-b915-89a611336eda",
   "metadata": {
    "colab": {
     "base_uri": "https://localhost:8080/",
     "height": 244
    },
    "id": "2ec18b96-7767-455b-b915-89a611336eda",
    "outputId": "c850e234-3390-48b5-8a54-b8882b19ee38"
   },
   "outputs": [],
   "source": [
    "X_train.head()"
   ]
  },
  {
   "cell_type": "markdown",
   "id": "2d8b475d-02f6-4932-8c83-1cf4fd189b57",
   "metadata": {
    "id": "2d8b475d-02f6-4932-8c83-1cf4fd189b57"
   },
   "source": [
    "###  Baseline - Random Fores"
   ]
  },
  {
   "cell_type": "code",
   "execution_count": null,
   "id": "8650678f-4e13-4ad4-9dde-d5fc327a6b56",
   "metadata": {
    "colab": {
     "base_uri": "https://localhost:8080/"
    },
    "id": "8650678f-4e13-4ad4-9dde-d5fc327a6b56",
    "outputId": "97b7505b-2b29-4fd7-cb1a-5c938728573e"
   },
   "outputs": [],
   "source": [
    "# Initialize the model\n",
    "\n",
    "\n",
    "rf = RandomForestClassifier(n_estimators=100, max_leaf_nodes=50, random_state=42)\n",
    "\n",
    "\n",
    "\n",
    "\n",
    "\n",
    "# Train the model\n",
    "\n",
    "rf.fit(X_train, y_train)\n",
    "\n",
    "\n",
    "\n",
    "# Make predictions\n",
    "\n",
    "y_pred_rf = rf.predict(X_test)\n",
    "\n",
    "\n",
    "# Print performance metrics\n",
    "def print_metrics(y_test, y_pred, model_name):\n",
    "    print(f\"Metrics for {model_name}:\")\n",
    "    print(\"Accuracy:\", accuracy_score(y_test, y_pred))\n",
    "    print(\"Classification Report:\\n\", classification_report(y_test, y_pred))\n",
    "    print(\"Confusion Matrix:\\n\", confusion_matrix(y_test, y_pred))\n",
    "    print(\"\\n\" + \"=\"*40 + \"\\n\")\n",
    "\n",
    "\n",
    "# Classification report\n",
    "print(classification_report(y_test, y_pred_rf))\n",
    "\n",
    "\n"
   ]
  },
  {
   "cell_type": "code",
   "execution_count": null,
   "id": "c9bde53a-a802-4fe4-8de5-88bde754a9d2",
   "metadata": {
    "colab": {
     "base_uri": "https://localhost:8080/"
    },
    "id": "c9bde53a-a802-4fe4-8de5-88bde754a9d2",
    "outputId": "eecb5a00-016c-4907-b8ab-17e2eb43d12e"
   },
   "outputs": [],
   "source": [
    "\n",
    "print_metrics(y_test, y_pred_rf, \"Random Forest\")\n",
    "\n"
   ]
  },
  {
   "cell_type": "code",
   "execution_count": null,
   "id": "f5371c24-9d9b-4154-b462-5c7a0c40a3a3",
   "metadata": {
    "colab": {
     "base_uri": "https://localhost:8080/",
     "height": 564
    },
    "id": "f5371c24-9d9b-4154-b462-5c7a0c40a3a3",
    "outputId": "75e74976-c8b6-41f3-9d03-5c88574c56bc"
   },
   "outputs": [],
   "source": [
    "# Function to plot confusion matrix\n",
    "def plot_confusion_matrix(y_true, y_pred, model_name):\n",
    "    cm = confusion_matrix(y_true, y_pred)\n",
    "    cm_df = pd.DataFrame(cm, index=['Class 0', 'Class 1'], columns=['Class 0', 'Class 1'])\n",
    "\n",
    "    plt.figure(figsize=(8, 6))\n",
    "    sns.heatmap(cm_df, annot=True, fmt='d', cmap='Blues', cbar=True,\n",
    "                linewidths=0.5, linecolor='black')\n",
    "    plt.xlabel('Predicted Labels')\n",
    "    plt.ylabel('True Labels')\n",
    "    plt.title(f'Confusion Matrix for {model_name}')\n",
    "    plt.show()\n",
    "\n",
    "# Plot confusion matrices for model\n",
    "\n",
    "plot_confusion_matrix(y_test, y_pred_rf, 'Random Forest')\n",
    "\n"
   ]
  },
  {
   "cell_type": "code",
   "execution_count": null,
   "id": "b2d26c6a-0611-479a-ae0a-a9bad646813f",
   "metadata": {},
   "outputs": [],
   "source": []
  },
  {
   "cell_type": "code",
   "execution_count": null,
   "id": "4b93f0f6-61e0-4d6e-8358-92eded8c29d7",
   "metadata": {},
   "outputs": [],
   "source": []
  }
 ],
 "metadata": {
  "colab": {
   "provenance": []
  },
  "kernelspec": {
   "display_name": "Python 3 (ipykernel)",
   "language": "python",
   "name": "python3"
  },
  "language_info": {
   "codemirror_mode": {
    "name": "ipython",
    "version": 3
   },
   "file_extension": ".py",
   "mimetype": "text/x-python",
   "name": "python",
   "nbconvert_exporter": "python",
   "pygments_lexer": "ipython3",
   "version": "3.11.9"
  }
 },
 "nbformat": 4,
 "nbformat_minor": 5
}
